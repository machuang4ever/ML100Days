{
 "cells": [
  {
   "cell_type": "markdown",
   "metadata": {},
   "source": [
    "## [作業目標]\n",
    "了解機器學習適合應用的領域與範疇。"
   ]
  },
  {
   "cell_type": "markdown",
   "metadata": {},
   "source": [
    "## [作業重點]\n",
    "透過瞭解機器學習的運作方式，找出非常適用機器學習應用的領域及其原因"
   ]
  },
  {
   "cell_type": "markdown",
   "metadata": {},
   "source": [
    "## 作業\n",
    "請找出一個你認為機器學習可以發光發熱的領域並闡述原因? "
   ]
  },
  {
   "cell_type": "markdown",
   "metadata": {},
   "source": [
    "金融市場(股市、匯市、貴金屬資源...等)影響我們的生活習習相關，產品複雜變化萬千，但影響其起伏的因素本質上都是跟總體經濟因素及人類心理學有關。如果看個股，影響短期股價因素除以上，客觀因素包括公司消息、市場資金動向，後者市場上雖已有很多程式/APP利用機器學習預測走勢，但如果能結合非量化因子(如市場消息、產品發表、投資策略...等)，各式網路公開資料量非常龐大但並無結構化，極適合利用文字採擷搭配機器學習，提供模型更多相關參考因子，作出更佳中短線預測。如此對投資人來說是一大福音。 "
   ]
  }
 ],
 "metadata": {
  "kernelspec": {
   "display_name": "Python 3",
   "language": "python",
   "name": "python3"
  },
  "language_info": {
   "codemirror_mode": {
    "name": "ipython",
    "version": 3
   },
   "file_extension": ".py",
   "mimetype": "text/x-python",
   "name": "python",
   "nbconvert_exporter": "python",
   "pygments_lexer": "ipython3",
   "version": "3.8.3"
  }
 },
 "nbformat": 4,
 "nbformat_minor": 4
}
